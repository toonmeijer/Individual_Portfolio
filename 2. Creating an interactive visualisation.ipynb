{
 "cells": [
  {
   "cell_type": "markdown",
   "metadata": {},
   "source": [
    "# Learning goal 2: creating an interactive visualisation"
   ]
  },
  {
   "cell_type": "markdown",
   "metadata": {},
   "source": [
    "## Background\n",
    "\n",
    "I have worked with visualisations in the past of course, but never any interactive ones in Python. At the start of the group project, I intented to create an interactive visualisation showing the output of the urban wind models we wanted to test. Since we did not find the correct models, I instead created a visualisation of the Netatmo data."
   ]
  },
  {
   "cell_type": "markdown",
   "metadata": {},
   "source": [
    "## Data source\n",
    "\n",
    "For simplicity's sake, I have used the same data set as in the first learning goal. It is a much smaller file to download compared to the full dataset, while it does not impede the quality of the visualisation. The only downside is that the time range able to visualise is a lot smaller. \n",
    "\n",
    "The information that is used from the dataset this time are the date and time, coordinates, wind direction, and wind speed."
   ]
  },
  {
   "cell_type": "markdown",
   "metadata": {},
   "source": [
    "## Methodology & Implementation\n",
    "\n",
    "Firstly, the necessary packages are imported. In order to be able to run the interactive visualisation, it is necessary to install missing packages on your computer, as well as install an extension that enables widgets in Jupyter Notebook. Run the following in your terminal (or Anaconda Prompt):\n",
    "\n",
    " `conda install -c conda-forge ipywidgets` <br/>\n",
    " `pip install ipywidgets` <br/>\n",
    " `jupyter nbextension enable --py widgetsnbextension`\n",
    "\n",
    "Some parts of the visualisation do not work in Safari. It is best to use Chrome, Firefox, or Edge."
   ]
  },
  {
   "cell_type": "code",
   "execution_count": 1,
   "metadata": {},
   "outputs": [],
   "source": [
    "import folium\n",
    "import pandas as pd\n",
    "from folium import plugins\n",
    "from folium.plugins import BoatMarker\n",
    "import matplotlib\n",
    "import branca\n",
    "import ipywidgets as widgets\n",
    "from IPython.display import display\n",
    "from datetime import datetime\n",
    "\n",
    "netatmo = pd.read_csv('PWS_first100k_withPressureTrends.csv')"
   ]
  },
  {
   "cell_type": "markdown",
   "metadata": {},
   "source": [
    "Next, two functions are defined that are later used in the visualisation, `findColorValue` and `createWindMapAmsterdam`. The first function finds the color hue for a particular wind speed. Wind speeds can range from 1 km/h to 38 km/h, with the colors going from light yellow to dark red. The function receives a predefined color scale called 'colormap' and a wind speed, looks up the correct hue, converts it from RGB to a hexadecimal color code and returns the code.\n",
    "\n",
    "The second function, `createWindMapAmsterdam`, creates a Folium map and populates it with observations from the Netatmo dataset. It takes a certain time as input argument, and subsets all observations from that time in the Netatmo dataset. Any observations with 'NA' wind speed measurements are deleted. Then, the color scale and legend are created. At last, each observation from that timestamp is added to the Folium map, where the wind direction of the observation is reflected in the orientation of the marker, and the color of the marker indicates the wind speed."
   ]
  },
  {
   "cell_type": "code",
   "execution_count": 2,
   "metadata": {},
   "outputs": [],
   "source": [
    "def findColorValue(colormap, wind_speed):\n",
    "    rgb = colormap.rgba_floats_tuple(wind_speed)[:-1]\n",
    "    return(matplotlib.colors.to_hex(rgb))"
   ]
  },
  {
   "cell_type": "code",
   "execution_count": 3,
   "metadata": {},
   "outputs": [],
   "source": [
    "def createWindMapAmsterdam(desired_timestamp):\n",
    "    netatmo_timestamp = netatmo.loc[netatmo['timestamp'] == desired_timestamp]\n",
    "    netatmo_timestamp = netatmo_timestamp[netatmo_timestamp['wind_speed_kmh'].notna()]\n",
    "    \n",
    "    map = folium.Map([52.37, 4.9], zoom_start=11)\n",
    "\n",
    "    colormap = branca.colormap.linear.YlOrRd_09.scale(1, 38)\n",
    "    colormap = colormap.to_step(index=[1, 3, 5, 8, 11, 15, 19, 23, 28, 33, 38])\n",
    "    colormap.caption = 'Measured wind speed (km/h)'\n",
    "    colormap.add_to(map)\n",
    "\n",
    "    for i, (lat, lon) in enumerate(zip(netatmo_timestamp.loc[:, \"y\"], netatmo_timestamp.loc[:, \"x\"])):\n",
    "        folium.plugins.BoatMarker(\n",
    "            location=[lat,lon],\n",
    "            wind_speed=netatmo_timestamp.iloc[i][\"wind_speed_kmh\"],\n",
    "            heading=int(netatmo_timestamp.iloc[i][\"wind_angle\"]),\n",
    "            color=findColorValue(colormap, int(netatmo_timestamp.iloc[i][\"wind_speed_kmh\"]))\n",
    "        ).add_to(map)\n",
    "    return(map)\n",
    "    \n",
    "map2 = createWindMapAmsterdam(\"2017-07-19 18:00:00\")"
   ]
  },
  {
   "cell_type": "markdown",
   "metadata": {},
   "source": [
    "Next, the previous two functions are used in the function called `mapPlotter`. This function is interactive and is called every time the user changes the input of the two user interface elements. The function appends the date and time that the user inputs into one string and calls the `createWindMapAmsterdam` function. The map is thus redrawn each time the user inputs new values.\n",
    "\n",
    "The other code in the code block below initializes and handles the UI-elements."
   ]
  },
  {
   "cell_type": "code",
   "execution_count": 4,
   "metadata": {},
   "outputs": [],
   "source": [
    "datepicker = widgets.DatePicker(\n",
    "    description='Choose date:',\n",
    "    disabled=False,\n",
    "    value=datetime.strptime(\"2017-06-01\", '%Y-%m-%d')\n",
    ")\n",
    "\n",
    "timepicker = widgets.IntSlider(\n",
    "    min = 0,\n",
    "    max = 23,\n",
    "    step = 1,\n",
    "    description = \"Choose hour:\",\n",
    "    value=19\n",
    ")\n",
    "\n",
    "widgetMapOutput = widgets.Output()\n",
    "\n",
    "def mapPlotter(datepicker, timepicker):\n",
    "    widgetMapOutput.clear_output()\n",
    "    with widgetMapOutput:\n",
    "        if len(str(timepicker)) == 1:\n",
    "            time = \" 0\" + str(timepicker) + \":00:00\"\n",
    "        elif len(str(timepicker)) == 2:\n",
    "            time = \" \" + str(timepicker) + \":00:00\"\n",
    "        datetime = str(datepicker) + time\n",
    "        print(\"Measurements at \" + datetime)\n",
    "        WindMap = createWindMapAmsterdam(datetime)\n",
    "        display(WindMap)\n",
    "    \n",
    "def datepicker_eventhandler(change):\n",
    "    mapPlotter(change.new, timepicker.value)\n",
    "    \n",
    "def timepicker_eventhandler(change):\n",
    "    mapPlotter(datepicker.value, change.new)"
   ]
  },
  {
   "cell_type": "markdown",
   "metadata": {},
   "source": [
    "## Results\n",
    "\n",
    "The code below simply shows the UI-elements and their output, and makes them responsive."
   ]
  },
  {
   "cell_type": "code",
   "execution_count": 5,
   "metadata": {},
   "outputs": [
    {
     "data": {
      "application/vnd.jupyter.widget-view+json": {
       "model_id": "44df3567671247caac534d5b004ee9d4",
       "version_major": 2,
       "version_minor": 0
      },
      "text/plain": [
       "DatePicker(value=datetime.datetime(2017, 6, 1, 0, 0), description='Choose date:')"
      ]
     },
     "metadata": {},
     "output_type": "display_data"
    },
    {
     "data": {
      "application/vnd.jupyter.widget-view+json": {
       "model_id": "de2ac94e2d754fb093f92866be363f41",
       "version_major": 2,
       "version_minor": 0
      },
      "text/plain": [
       "IntSlider(value=19, description='Choose hour:', max=23)"
      ]
     },
     "metadata": {},
     "output_type": "display_data"
    },
    {
     "data": {
      "application/vnd.jupyter.widget-view+json": {
       "model_id": "6642d71e64284c05b471067411ba6f02",
       "version_major": 2,
       "version_minor": 0
      },
      "text/plain": [
       "Output()"
      ]
     },
     "metadata": {},
     "output_type": "display_data"
    }
   ],
   "source": [
    "\n",
    "\n",
    "datepicker.observe(datepicker_eventhandler, names=\"value\")\n",
    "timepicker.observe(timepicker_eventhandler, names=\"value\")\n",
    "\n",
    "display(datepicker)\n",
    "display(timepicker)\n",
    "display(widgetMapOutput)\n"
   ]
  },
  {
   "cell_type": "markdown",
   "metadata": {},
   "source": [
    "\n",
    "Change the initial date for the Folium map to show! The observations run from 2017-06-01 to 2017-08-05. The legend contains two colors for each wind speed category on the Beaufort scale. A new category begins each time a km/h value is shown, i.e. 1->5 = category 1, 5->11 = category 2, ..."
   ]
  },
  {
   "cell_type": "markdown",
   "metadata": {},
   "source": [
    "## Conclusion"
   ]
  },
  {
   "cell_type": "markdown",
   "metadata": {},
   "source": [
    "\n",
    "\n",
    "A few conclusions can be drawn when viewing the dataset through this visualisation. For some hours and days, there are very few observations available. This is because all wind measurements of below 1 km/h are removed from the dataset, as such low wind measurements are unreliable (Droste et al. 2020). Also, the measured wind direction varies greatly, even at times when there is lots of wind. For example, on 7-6-2017 at 06:00h, the reported wind speed at Schiphol airport was 12.0 m/s = 43.2 km/h. Some observations do show increased wind speeds, but many still report quite low observations coming from all kinds of directions. The wind direction measurements do seem more accurate as wind speeds increase. The stations that report the highest wind speeds consistently indicate correct wind directions. \n",
    "\n",
    "All in all, I learned quite a few things making this visualisation. Before, I did not know how to create interactive UI-elements in Python, and use these as inputs for a map. I had also never worked with the folium package. The data is now presented in a much more easily interpretable manner compared to a spreadsheet.\n",
    "\n",
    "\n",
    "\n",
    "\n",
    "\n",
    "\n",
    "\n",
    "\n",
    "\n",
    "\n",
    "\n",
    "\n",
    "\n",
    "\n",
    "\n",
    "\n",
    "\n",
    "\n"
   ]
  }
 ],
 "metadata": {
  "kernelspec": {
   "display_name": "Python 3",
   "language": "python",
   "name": "python3"
  },
  "language_info": {
   "codemirror_mode": {
    "name": "ipython",
    "version": 3
   },
   "file_extension": ".py",
   "mimetype": "text/x-python",
   "name": "python",
   "nbconvert_exporter": "python",
   "pygments_lexer": "ipython3",
   "version": "3.7.9"
  }
 },
 "nbformat": 4,
 "nbformat_minor": 4
}
